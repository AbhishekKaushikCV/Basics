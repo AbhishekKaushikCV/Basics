{
  "nbformat": 4,
  "nbformat_minor": 0,
  "metadata": {
    "colab": {
      "name": "Practice-Python.ipynb",
      "provenance": [],
      "authorship_tag": "ABX9TyPhlkUY8sG5k3zeJgPSpi43",
      "include_colab_link": true
    },
    "kernelspec": {
      "name": "python3",
      "display_name": "Python 3"
    },
    "language_info": {
      "name": "python"
    }
  },
  "cells": [
    {
      "cell_type": "markdown",
      "metadata": {
        "id": "view-in-github",
        "colab_type": "text"
      },
      "source": [
        "<a href=\"https://colab.research.google.com/github/AbhishekKaushikCV/Self_Study/blob/main/Practice_Python.ipynb\" target=\"_parent\"><img src=\"https://colab.research.google.com/assets/colab-badge.svg\" alt=\"Open In Colab\"/></a>"
      ]
    },
    {
      "cell_type": "code",
      "metadata": {
        "colab": {
          "base_uri": "https://localhost:8080/"
        },
        "id": "lmAcKaFQYXbH",
        "outputId": "9d704121-3a8d-4dc4-ffae-d4cafc87a45f"
      },
      "source": [
        "!python --version"
      ],
      "execution_count": null,
      "outputs": [
        {
          "output_type": "stream",
          "text": [
            "Python 3.7.10\n"
          ],
          "name": "stdout"
        }
      ]
    },
    {
      "cell_type": "markdown",
      "metadata": {
        "id": "acPZtfnuaWWg"
      },
      "source": [
        "Function"
      ]
    },
    {
      "cell_type": "code",
      "metadata": {
        "colab": {
          "base_uri": "https://localhost:8080/"
        },
        "id": "M6PVDUFfXLMC",
        "outputId": "0e5fb874-e31d-4b92-dff4-be73e19fd384"
      },
      "source": [
        "def quicksort(arr):\n",
        "  if len(arr) <=1 :\n",
        "    return arr\n",
        "  pivot = arr[len(arr) // 2]\n",
        "  left = [x for x in arr if x < pivot]\n",
        "  middle =  [x for x in arr if x == pivot]\n",
        "  right = [x for x in arr if x > pivot]\n",
        "  return quicksort(left) + middle  + quicksort(right)\n",
        "\n",
        "print (quicksort([1,3,2,5,7,8,9,95,49]))"
      ],
      "execution_count": null,
      "outputs": [
        {
          "output_type": "stream",
          "text": [
            "[1, 2, 3, 5, 7, 8, 9, 49, 95]\n"
          ],
          "name": "stdout"
        }
      ]
    },
    {
      "cell_type": "markdown",
      "metadata": {
        "id": "WRivmMt7aZwb"
      },
      "source": [
        "Numbers"
      ]
    },
    {
      "cell_type": "code",
      "metadata": {
        "colab": {
          "base_uri": "https://localhost:8080/"
        },
        "id": "7b0i1DFPZjeG",
        "outputId": "c71adb04-7e5e-4cd9-bc54-9aa7eb18e1b2"
      },
      "source": [
        "x = 3\n",
        "print(x,type(x))"
      ],
      "execution_count": null,
      "outputs": [
        {
          "output_type": "stream",
          "text": [
            "3 <class 'int'>\n"
          ],
          "name": "stdout"
        }
      ]
    },
    {
      "cell_type": "code",
      "metadata": {
        "colab": {
          "base_uri": "https://localhost:8080/"
        },
        "id": "X-tKSzt7ZwXT",
        "outputId": "0a494e69-44fe-45ca-c0b6-c132916d9d0d"
      },
      "source": [
        "print(x+1)\n",
        "print(x-1)\n",
        "print(x*2)\n",
        "print(x**2)"
      ],
      "execution_count": null,
      "outputs": [
        {
          "output_type": "stream",
          "text": [
            "4\n",
            "2\n",
            "6\n",
            "9\n"
          ],
          "name": "stdout"
        }
      ]
    },
    {
      "cell_type": "code",
      "metadata": {
        "colab": {
          "base_uri": "https://localhost:8080/"
        },
        "id": "03ZfVDpWaEpl",
        "outputId": "7104e663-1734-406d-ac37-66bb4af16eef"
      },
      "source": [
        "y = 2.5\n",
        "print(y,type(y))\n",
        "print(y+1,y-1,y*2,y**2)"
      ],
      "execution_count": null,
      "outputs": [
        {
          "output_type": "stream",
          "text": [
            "2.5 <class 'float'>\n",
            "3.5 1.5 5.0 6.25\n"
          ],
          "name": "stdout"
        }
      ]
    },
    {
      "cell_type": "markdown",
      "metadata": {
        "id": "PJQ-rjUzaeGh"
      },
      "source": [
        "Booleans"
      ]
    },
    {
      "cell_type": "code",
      "metadata": {
        "colab": {
          "base_uri": "https://localhost:8080/"
        },
        "id": "djb-kswoaf0o",
        "outputId": "5da3d629-2405-40da-a9e8-da2a91759d3b"
      },
      "source": [
        "t,f = True,False\n",
        "print(t,f,type(t))"
      ],
      "execution_count": null,
      "outputs": [
        {
          "output_type": "stream",
          "text": [
            "True False <class 'bool'>\n"
          ],
          "name": "stdout"
        }
      ]
    },
    {
      "cell_type": "code",
      "metadata": {
        "colab": {
          "base_uri": "https://localhost:8080/"
        },
        "id": "0KPxXF3_a7sF",
        "outputId": "6bc34905-9c29-40e0-cc03-93362ff41e39"
      },
      "source": [
        "print(t and f)# logical and \n",
        "print(t or f)# logical or\n",
        "print(not t)# logical not"
      ],
      "execution_count": null,
      "outputs": [
        {
          "output_type": "stream",
          "text": [
            "False\n",
            "True\n",
            "False\n"
          ],
          "name": "stdout"
        }
      ]
    },
    {
      "cell_type": "markdown",
      "metadata": {
        "id": "J24kvwWPa65Z"
      },
      "source": [
        "Strings"
      ]
    },
    {
      "cell_type": "code",
      "metadata": {
        "colab": {
          "base_uri": "https://localhost:8080/"
        },
        "id": "admx45cebPVm",
        "outputId": "a7316e46-da5e-4bbb-9245-aaf3fe0ad0bc"
      },
      "source": [
        "h = 'hello'\n",
        "w = \"world\"\n",
        "print(h,type(h),len(h))"
      ],
      "execution_count": null,
      "outputs": [
        {
          "output_type": "stream",
          "text": [
            "hello <class 'str'> 5\n"
          ],
          "name": "stdout"
        }
      ]
    },
    {
      "cell_type": "code",
      "metadata": {
        "colab": {
          "base_uri": "https://localhost:8080/"
        },
        "id": "hGfnsc5xbujw",
        "outputId": "35430307-61b5-47c4-9ba1-c05ac8c83e20"
      },
      "source": [
        "hw = h+ \" \" +w #string concatenation\n",
        "print(hw,len(hw))"
      ],
      "execution_count": null,
      "outputs": [
        {
          "output_type": "stream",
          "text": [
            "hello world 11\n"
          ],
          "name": "stdout"
        }
      ]
    },
    {
      "cell_type": "code",
      "metadata": {
        "colab": {
          "base_uri": "https://localhost:8080/"
        },
        "id": "mqT_7UfQcL5w",
        "outputId": "c5e00793-4851-4988-facd-94fa5f7289bc"
      },
      "source": [
        "hw12 = '{} {} {}'.format(h, w, 21)  # string formatting ??\n",
        "print(hw12)"
      ],
      "execution_count": null,
      "outputs": [
        {
          "output_type": "stream",
          "text": [
            "hello world 21\n"
          ],
          "name": "stdout"
        }
      ]
    },
    {
      "cell_type": "code",
      "metadata": {
        "colab": {
          "base_uri": "https://localhost:8080/"
        },
        "id": "U7DAe1UvcqQk",
        "outputId": "98a1482a-1ad1-49ff-afe6-f32616517f00"
      },
      "source": [
        "s = 'the one lion'\n",
        "print(s,s.capitalize())\n",
        "print(s,s.upper())\n",
        "print(s.replace('o','oo'))"
      ],
      "execution_count": null,
      "outputs": [
        {
          "output_type": "stream",
          "text": [
            "the one lion The one lion\n",
            "the one lion THE ONE LION\n",
            "the oone lioon\n"
          ],
          "name": "stdout"
        }
      ]
    },
    {
      "cell_type": "markdown",
      "metadata": {
        "id": "7M794RWpdfE8"
      },
      "source": [
        "Containers:- list,dictionaries,tuples,set"
      ]
    },
    {
      "cell_type": "markdown",
      "metadata": {
        "id": "l1ufAcv2gBEI"
      },
      "source": [
        "Lists"
      ]
    },
    {
      "cell_type": "code",
      "metadata": {
        "colab": {
          "base_uri": "https://localhost:8080/"
        },
        "id": "IhHW_TsZdn4P",
        "outputId": "68699ed3-6d62-4d18-f281-7f8de962ef58"
      },
      "source": [
        "l = [3,1,2,5.0]\n",
        "print(l,l[3])\n",
        "print(l[-1])"
      ],
      "execution_count": null,
      "outputs": [
        {
          "output_type": "stream",
          "text": [
            "[3, 1, 2, 5.0] 5.0\n",
            "5.0\n"
          ],
          "name": "stdout"
        }
      ]
    },
    {
      "cell_type": "code",
      "metadata": {
        "colab": {
          "base_uri": "https://localhost:8080/"
        },
        "id": "6kL6XDjWeaY6",
        "outputId": "b7292170-ae68-46eb-eec6-96b55ef4af79"
      },
      "source": [
        "l[2] = 'k' #list can contain elements of different types\n",
        "print(l)"
      ],
      "execution_count": null,
      "outputs": [
        {
          "output_type": "stream",
          "text": [
            "[3, 1, 'k', 5.0]\n"
          ],
          "name": "stdout"
        }
      ]
    },
    {
      "cell_type": "code",
      "metadata": {
        "colab": {
          "base_uri": "https://localhost:8080/"
        },
        "id": "IYmysqqfevRQ",
        "outputId": "97b3befa-2412-4779-80cb-9ad7808edd3e"
      },
      "source": [
        "l.append('you') # add a new element to the end of the list\n",
        "print(l)"
      ],
      "execution_count": null,
      "outputs": [
        {
          "output_type": "stream",
          "text": [
            "[3, 1, 'k', 5.0, 'you']\n"
          ],
          "name": "stdout"
        }
      ]
    },
    {
      "cell_type": "code",
      "metadata": {
        "colab": {
          "base_uri": "https://localhost:8080/"
        },
        "id": "L0NpaNsYfAqw",
        "outputId": "311f6481-6573-4e4c-de8a-3d0d50088d4b"
      },
      "source": [
        "print(l.pop()) # remove the last element of the list and also return it\n",
        "print(l)\n"
      ],
      "execution_count": null,
      "outputs": [
        {
          "output_type": "stream",
          "text": [
            "5.0\n",
            "[3, 1, 'k']\n"
          ],
          "name": "stdout"
        }
      ]
    },
    {
      "cell_type": "markdown",
      "metadata": {
        "id": "gj-DYyQXf9k3"
      },
      "source": [
        "Slicing"
      ]
    },
    {
      "cell_type": "code",
      "metadata": {
        "colab": {
          "base_uri": "https://localhost:8080/"
        },
        "id": "T-OnTVYZf_Vl",
        "outputId": "cd2b3bcc-0306-4bf6-8674-bb78442802d7"
      },
      "source": [
        "nums  = list(range(6))  # range is a built-in function that creates a list of integers\n",
        "print(nums)  # Prints \"[0, 1, 2, 3, 4,5]\"\n",
        "print(nums[2:4])  # Get a slice from index 2 to 4 (exclusive); prints \"[2, 3]\"\n",
        "print(nums[2:]) # Get a slice from index 2 to the end; prints \"[2, 3, 4]\"\n",
        "print(nums[:2]) # Get a slice from the start to index 2 (exclusive); prints \"[0, 1]\"\n",
        "print(nums[:]) # Get a slice of the whole list; prints [\"0, 1, 2, 3, 4]\"\n",
        "print(nums[:-1]) # Slice indices can be negative; prints [\"0, 1, 2, 3]\"\n",
        "nums[3:5] = [9,16] # Assign a new sublist to a slice\n",
        "print(nums)"
      ],
      "execution_count": null,
      "outputs": [
        {
          "output_type": "stream",
          "text": [
            "[0, 1, 2, 3, 4, 5]\n",
            "[2, 3]\n",
            "[2, 3, 4, 5]\n",
            "[0, 1]\n",
            "[0, 1, 2, 3, 4, 5]\n",
            "[0, 1, 2, 3, 4]\n",
            "[0, 1, 2, 9, 16, 5]\n"
          ],
          "name": "stdout"
        }
      ]
    },
    {
      "cell_type": "markdown",
      "metadata": {
        "id": "g5h8CzJ7lgH6"
      },
      "source": [
        "Loops"
      ]
    },
    {
      "cell_type": "code",
      "metadata": {
        "colab": {
          "base_uri": "https://localhost:8080/"
        },
        "id": "tkt-LmdclhbC",
        "outputId": "ebc0c055-ece9-421e-ec1a-c8249d97f53f"
      },
      "source": [
        "animals = ['cat', 'dog', 'monkey','lion']\n",
        "for animals in animals:\n",
        "    print(animals)\n",
        "else:\n",
        "  print(\"List is completed\")"
      ],
      "execution_count": null,
      "outputs": [
        {
          "output_type": "stream",
          "text": [
            "cat\n",
            "dog\n",
            "monkey\n",
            "lion\n",
            "List is completed\n"
          ],
          "name": "stdout"
        }
      ]
    },
    {
      "cell_type": "markdown",
      "metadata": {
        "id": "srXNKLSnpa_h"
      },
      "source": [
        "# Nested Loops\n",
        "animals = [\"cat\",\"dog\",\"monkey\",\"lion\"]\n",
        "color = [\"black\",\"white\"]\n",
        "for y in animals:\n",
        "  for x in color:\n",
        "   print(y,x)\n"
      ]
    },
    {
      "cell_type": "code",
      "metadata": {
        "colab": {
          "base_uri": "https://localhost:8080/"
        },
        "id": "qdHKIXX7o1z3",
        "outputId": "b8e2da6e-dc97-4557-8e0f-7d5449f9cf7b"
      },
      "source": [
        "for x in range(10):\n",
        "  print(x)\n",
        "else:\n",
        "  print(\"Finally Finished\")"
      ],
      "execution_count": null,
      "outputs": [
        {
          "output_type": "stream",
          "text": [
            "0\n",
            "1\n",
            "2\n",
            "3\n",
            "4\n",
            "5\n",
            "6\n",
            "7\n",
            "8\n",
            "9\n",
            "Finally Finished\n"
          ],
          "name": "stdout"
        }
      ]
    },
    {
      "cell_type": "markdown",
      "metadata": {
        "id": "lnjBVMnuscmp"
      },
      "source": [
        "IF ELSE"
      ]
    },
    {
      "cell_type": "code",
      "metadata": {
        "colab": {
          "base_uri": "https://localhost:8080/"
        },
        "id": "_iDth-pHr9QO",
        "outputId": "4fd50dfa-b336-4def-aab9-66fbfd4117ea"
      },
      "source": [
        "a=33\n",
        "b=10\n",
        "if b>a :\n",
        "  print(\"b is greater than a\")\n",
        "else:\n",
        "  print(\"a is greater than b\")"
      ],
      "execution_count": null,
      "outputs": [
        {
          "output_type": "stream",
          "text": [
            "a is greater than b\n"
          ],
          "name": "stdout"
        }
      ]
    },
    {
      "cell_type": "code",
      "metadata": {
        "colab": {
          "base_uri": "https://localhost:8080/"
        },
        "id": "evRh42bMsnGu",
        "outputId": "1ac6a56b-5cb2-4fd3-de7f-2dc76a6b1e02"
      },
      "source": [
        "# The elif keyword is pythons way of saying \"if the previous conditions were not true, then try this condition\".\n",
        "\n",
        "a=10\n",
        "b=10\n",
        "if a>b:\n",
        "  print(\"a is greater than b\")\n",
        "elif a == b:\n",
        "    print(\"a is equal to b\")\n",
        "elif a<b:\n",
        "  print(\"a is less than b\")"
      ],
      "execution_count": null,
      "outputs": [
        {
          "output_type": "stream",
          "text": [
            "a is equal to b\n"
          ],
          "name": "stdout"
        }
      ]
    },
    {
      "cell_type": "markdown",
      "metadata": {
        "id": "6jL_2Ya3vbl1"
      },
      "source": [
        "List Comprehension"
      ]
    },
    {
      "cell_type": "code",
      "metadata": {
        "colab": {
          "base_uri": "https://localhost:8080/"
        },
        "id": "vTC_MokXveD8",
        "outputId": "f7572321-50b4-4e35-d5f6-fea0a2ef7f39"
      },
      "source": [
        "# Normal\n",
        "nums = [0,1,2,3,4]\n",
        "squares = []\n",
        "for x in nums:\n",
        "  squares.append(x**2)\n",
        "print(squares)\n"
      ],
      "execution_count": null,
      "outputs": [
        {
          "output_type": "stream",
          "text": [
            "[0, 1, 4, 9, 16]\n"
          ],
          "name": "stdout"
        }
      ]
    },
    {
      "cell_type": "code",
      "metadata": {
        "colab": {
          "base_uri": "https://localhost:8080/"
        },
        "id": "_hPXlIsDv7BX",
        "outputId": "0cfb9915-ad24-4e50-cc41-2045124cb5a1"
      },
      "source": [
        "# List comprehension\n",
        "nums = [0,1,2,3,4,5]\n",
        "squares = [x**2 for x in nums]\n",
        "print(squares)"
      ],
      "execution_count": null,
      "outputs": [
        {
          "output_type": "stream",
          "text": [
            "[0, 1, 4, 9, 16, 25]\n"
          ],
          "name": "stdout"
        }
      ]
    },
    {
      "cell_type": "code",
      "metadata": {
        "colab": {
          "base_uri": "https://localhost:8080/"
        },
        "id": "B-30nScwwZYy",
        "outputId": "3c0f3ea7-26eb-4405-c302-eda1a52d401e"
      },
      "source": [
        "# list comprehension can also contain conditions\n",
        "nums = [0,1,2,3,4,5,6]\n",
        "even_squares = [x**2 for x in nums if x % 2 == 0]\n",
        "print(even_squares)"
      ],
      "execution_count": null,
      "outputs": [
        {
          "output_type": "stream",
          "text": [
            "[0, 4, 16, 36]\n"
          ],
          "name": "stdout"
        }
      ]
    },
    {
      "cell_type": "markdown",
      "metadata": {
        "id": "wFBQ5AwExkl3"
      },
      "source": [
        "Sets\n",
        "An unordered collection of distinct elements"
      ]
    },
    {
      "cell_type": "code",
      "metadata": {
        "colab": {
          "base_uri": "https://localhost:8080/"
        },
        "id": "pDX3rPduxtFj",
        "outputId": "ad4ca584-9d38-4f7c-dcfd-87af721c38fa"
      },
      "source": [
        "animals = {\"cat\",\"dog\",\"elephat\"}\n",
        "print(\"cat\" in animals) # check if an element is in the set\n",
        "print(\"lion\" in animals)"
      ],
      "execution_count": null,
      "outputs": [
        {
          "output_type": "stream",
          "text": [
            "True\n",
            "False\n"
          ],
          "name": "stdout"
        }
      ]
    },
    {
      "cell_type": "code",
      "metadata": {
        "colab": {
          "base_uri": "https://localhost:8080/"
        },
        "id": "uuVHKf0SyINZ",
        "outputId": "f1f85d6b-4065-40f7-b6b3-ac5b4799819c"
      },
      "source": [
        "animals.add('lion') # add element in a set\n",
        "print(animals)\n",
        "print(len(animals))\n",
        "animals.remove('lion') # remove element from the set\n",
        "print(len(animals))"
      ],
      "execution_count": null,
      "outputs": [
        {
          "output_type": "stream",
          "text": [
            "{'elephat', 'cat', 'dog', 'lion'}\n",
            "4\n",
            "3\n"
          ],
          "name": "stdout"
        }
      ]
    },
    {
      "cell_type": "markdown",
      "metadata": {
        "id": "ZFCv0oSvy9bo"
      },
      "source": [
        "FUNCTIONS"
      ]
    },
    {
      "cell_type": "code",
      "metadata": {
        "colab": {
          "base_uri": "https://localhost:8080/"
        },
        "id": "ZFcWY8G1zE3C",
        "outputId": "121de90c-b9f6-43e8-a8b0-7d2afdce96cf"
      },
      "source": [
        "def sign(x):\n",
        "  if x<0 :\n",
        "    print(\"negative\")\n",
        "  elif x>0:\n",
        "    print(\"positive\")\n",
        "  else:\n",
        "    print(\"zero\")\n",
        "for x in [-1,0,1]:\n",
        "  print(sign(x))\n",
        "\n",
        "# ?? why none in th output? i think there is not return statement, it is just printing the listed statement"
      ],
      "execution_count": null,
      "outputs": [
        {
          "output_type": "stream",
          "text": [
            "negative\n",
            "None\n",
            "zero\n",
            "None\n",
            "positive\n",
            "None\n"
          ],
          "name": "stdout"
        }
      ]
    },
    {
      "cell_type": "code",
      "metadata": {
        "colab": {
          "base_uri": "https://localhost:8080/"
        },
        "id": "DtFAsZPu0Ssk",
        "outputId": "ecd73a31-4c5e-4288-f85d-4efaca432960"
      },
      "source": [
        "def sign(x):\n",
        "  if x>0:\n",
        "    return \"positive\"\n",
        "  elif x<0:\n",
        "    return \"negative\"\n",
        "  else:\n",
        "    return \"zero\"\n",
        "for x in [-1,-2,2,6,0,0]:\n",
        "  print(sign(x))"
      ],
      "execution_count": null,
      "outputs": [
        {
          "output_type": "stream",
          "text": [
            "negative\n",
            "negative\n",
            "positive\n",
            "positive\n",
            "zero\n",
            "zero\n"
          ],
          "name": "stdout"
        }
      ]
    },
    {
      "cell_type": "code",
      "metadata": {
        "colab": {
          "base_uri": "https://localhost:8080/"
        },
        "id": "Pstfhq4o1dr9",
        "outputId": "a1ee803e-185e-4fe0-87d8-e0044d966af9"
      },
      "source": [
        "for y in range(-1,2):\n",
        "  print(sign(y))"
      ],
      "execution_count": null,
      "outputs": [
        {
          "output_type": "stream",
          "text": [
            "negative\n",
            "zero\n",
            "positive\n"
          ],
          "name": "stdout"
        }
      ]
    },
    {
      "cell_type": "code",
      "metadata": {
        "colab": {
          "base_uri": "https://localhost:8080/"
        },
        "id": "NkKP0Yfg3OGO",
        "outputId": "8417d880-9827-4861-9431-021b9bf708bf"
      },
      "source": [
        "def my_function(*kids):            # *args if don't know the no. of arguments\n",
        "  print(\"The youngest child is \" + kids[2])\n",
        "\n",
        "my_function(\"Emil\", \"Tobias\", \"Linus\")"
      ],
      "execution_count": null,
      "outputs": [
        {
          "output_type": "stream",
          "text": [
            "The youngest child is Linus\n"
          ],
          "name": "stdout"
        }
      ]
    },
    {
      "cell_type": "code",
      "metadata": {
        "colab": {
          "base_uri": "https://localhost:8080/"
        },
        "id": "a3y0zQUA3oP3",
        "outputId": "b2a10d20-3487-4039-f575-fdce097eed0c"
      },
      "source": [
        "# default argument\n",
        "def my_function(country = \"Norway\"): # Here norway is the difficult country\n",
        "  print(\"I am from \" + country)\n",
        "\n",
        "my_function(\"Sweden\")\n",
        "my_function(\"India\")\n",
        "my_function()             # defualt value is used here\n",
        "my_function(\"Brazil\")"
      ],
      "execution_count": null,
      "outputs": [
        {
          "output_type": "stream",
          "text": [
            "I am from Sweden\n",
            "I am from India\n",
            "I am from Norway\n",
            "I am from Brazil\n"
          ],
          "name": "stdout"
        }
      ]
    },
    {
      "cell_type": "code",
      "metadata": {
        "colab": {
          "base_uri": "https://localhost:8080/"
        },
        "id": "q4Vnt-4U4LNp",
        "outputId": "2edd4983-057b-4ced-b5cd-8b0e4a24b99a"
      },
      "source": [
        "# passing a list as an argument\n",
        "def my_function(food):\n",
        "  for x in food:\n",
        "    print(x)\n",
        "\n",
        "fruits = [\"apple\", \"banana\", \"cherry\"]\n",
        "\n",
        "my_function(fruits)\n"
      ],
      "execution_count": null,
      "outputs": [
        {
          "output_type": "stream",
          "text": [
            "apple\n",
            "banana\n",
            "cherry\n"
          ],
          "name": "stdout"
        }
      ]
    },
    {
      "cell_type": "code",
      "metadata": {
        "colab": {
          "base_uri": "https://localhost:8080/"
        },
        "id": "dXlRXd_B4Zme",
        "outputId": "ff251686-2f6b-465d-e000-8dc44e23598f"
      },
      "source": [
        "# Return Statement\n",
        "def multiple_5(x):\n",
        "  return 5*x\n",
        "print(multiple_5(6))"
      ],
      "execution_count": null,
      "outputs": [
        {
          "output_type": "stream",
          "text": [
            "30\n"
          ],
          "name": "stdout"
        }
      ]
    },
    {
      "cell_type": "markdown",
      "metadata": {
        "id": "z4vKm9vq73Zn"
      },
      "source": [
        "CLASS"
      ]
    },
    {
      "cell_type": "code",
      "metadata": {
        "colab": {
          "base_uri": "https://localhost:8080/"
        },
        "id": "aYkYITwM754Z",
        "outputId": "1c4c5af1-1ec2-4e54-fa29-8e259af13a8b"
      },
      "source": [
        "class Person:\n",
        "  def __init__(self, name, age):\n",
        "    self.name = name\n",
        "    self.age = age\n",
        "\n",
        "p1 = Person(\"John\", 36)\n",
        "\n",
        "print(p1.name)\n",
        "print(p1.age)\n",
        "\n",
        "\n",
        "class student:\n",
        "  def __init__(self,name,fname):\n",
        "    self.name = name\n",
        "    self.fname = fname\n",
        "    \n",
        "s1 = student(\"mohan\",\"radhemohan\")\n",
        "\n",
        "print(s1.name)\n",
        "print(s1.fname)\n"
      ],
      "execution_count": null,
      "outputs": [
        {
          "output_type": "stream",
          "text": [
            "John\n",
            "36\n",
            "mohan\n",
            "radhemohan\n"
          ],
          "name": "stdout"
        }
      ]
    },
    {
      "cell_type": "code",
      "metadata": {
        "colab": {
          "base_uri": "https://localhost:8080/"
        },
        "id": "9cwyUPT9_Fle",
        "outputId": "d1cb8349-895f-4b33-97a8-da8d65e4f32d"
      },
      "source": [
        "class Person:\n",
        "  def __init__(self, name, age):\n",
        "    self.name = name\n",
        "    self.age = age\n",
        "\n",
        "  def myfunc(self):\n",
        "    print(\"Hello my name is \" + self.name)\n",
        "    print(\"My age is \", self.age)\n",
        "\n",
        "p1 = Person(\"John\", 36)\n",
        "p1.myfunc()\n",
        "\n",
        "\n",
        "class student:\n",
        "  def __init__(self,name,fname):\n",
        "    self.name = name\n",
        "    self.fname = fname\n",
        "    \n",
        "  def myfathername(self):\n",
        "    print(\"My father's name is \" + self.fname)\n",
        "    print(\"My name is \" + self.name)\n",
        "    \n",
        "    \n",
        "    \n",
        "s1 = student(\"Shubham\",\"Tayal\")\n",
        "s1.myfathername()"
      ],
      "execution_count": null,
      "outputs": [
        {
          "output_type": "stream",
          "text": [
            "Hello my name is John\n",
            "My age is  36\n",
            "My father's name is Tayal\n",
            "My name is Shubham\n"
          ],
          "name": "stdout"
        }
      ]
    },
    {
      "cell_type": "code",
      "metadata": {
        "id": "J7paUUK5AIXC",
        "colab": {
          "base_uri": "https://localhost:8080/"
        },
        "outputId": "92cb58d5-6bf8-48af-e13e-a0ff87656d94"
      },
      "source": [
        "class Greeter:\n",
        "\n",
        "    # Constructor\n",
        "    def __init__(self, name):\n",
        "        self.name = name  # Create an instance variable\n",
        "\n",
        "    # Instance method\n",
        "    def greet(self, loud=False):\n",
        "        if loud:\n",
        "          print('HELLO, {}'.format(self.name.upper()))\n",
        "        else:\n",
        "          print('Hello, {}!'.format(self.name))\n",
        "\n",
        "g = Greeter('Fred')  # Construct an instance of the Greeter class\n",
        "g.greet()            # Call an instance method; prints \"Hello, Fred\"\n",
        "g.greet(loud=True)   # Call an instance method; prints \"HELLO, FRED!\""
      ],
      "execution_count": null,
      "outputs": [
        {
          "output_type": "stream",
          "text": [
            "Hello, Fred!\n",
            "HELLO, FRED\n"
          ],
          "name": "stdout"
        }
      ]
    }
  ]
}