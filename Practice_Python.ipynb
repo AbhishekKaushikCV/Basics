{
  "nbformat": 4,
  "nbformat_minor": 0,
  "metadata": {
    "colab": {
      "name": "Practice-Python.ipynb",
      "provenance": [],
      "include_colab_link": true
    },
    "kernelspec": {
      "name": "python3",
      "display_name": "Python 3"
    },
    "language_info": {
      "name": "python"
    }
  },
  "cells": [
    {
      "cell_type": "markdown",
      "metadata": {
        "id": "view-in-github",
        "colab_type": "text"
      },
      "source": [
        "<a href=\"https://colab.research.google.com/github/AbhishekKaushikCV/Self_Study/blob/main/Practice_Python.ipynb\" target=\"_parent\"><img src=\"https://colab.research.google.com/assets/colab-badge.svg\" alt=\"Open In Colab\"/></a>"
      ]
    },
    {
      "cell_type": "code",
      "metadata": {
        "colab": {
          "base_uri": "https://localhost:8080/"
        },
        "id": "lmAcKaFQYXbH",
        "outputId": "0defe26c-828b-44be-b424-413278fbf0f3"
      },
      "source": [
        "!python --version"
      ],
      "execution_count": 1,
      "outputs": [
        {
          "output_type": "stream",
          "name": "stdout",
          "text": [
            "Python 3.7.12\n"
          ]
        }
      ]
    },
    {
      "cell_type": "markdown",
      "metadata": {
        "id": "acPZtfnuaWWg"
      },
      "source": [
        "### Function"
      ]
    },
    {
      "cell_type": "code",
      "metadata": {
        "colab": {
          "base_uri": "https://localhost:8080/"
        },
        "id": "M6PVDUFfXLMC",
        "outputId": "3e45870f-d02e-41c2-8a0e-c03dfc10a1f7"
      },
      "source": [
        "def quicksort(arr):\n",
        "  if len(arr) <=1 :\n",
        "    return arr\n",
        "  pivot = arr[len(arr) // 2]\n",
        "  left = [x for x in arr if x < pivot]\n",
        "  middle =  [x for x in arr if x == pivot]\n",
        "  right = [x for x in arr if x > pivot]\n",
        "  return quicksort(left) + middle  + quicksort(right)\n",
        "\n",
        "print (quicksort([1,3,2,5,7,8,9,95,49]))"
      ],
      "execution_count": 2,
      "outputs": [
        {
          "output_type": "stream",
          "name": "stdout",
          "text": [
            "[1, 2, 3, 5, 7, 8, 9, 49, 95]\n"
          ]
        }
      ]
    },
    {
      "cell_type": "code",
      "source": [
        "### input()"
      ],
      "metadata": {
        "id": "2J9KwhUoMLD4"
      },
      "execution_count": null,
      "outputs": []
    },
    {
      "cell_type": "code",
      "source": [
        "inp = input(\"Enter the europe floor:\")\n",
        "val = int(inp)\n",
        "usf = val+1\n",
        "print(\"US floor is:\",usf)"
      ],
      "metadata": {
        "id": "TQgYihucMNdZ",
        "outputId": "a852439b-a513-4aa1-eaa2-300ac86e9e9d",
        "colab": {
          "base_uri": "https://localhost:8080/"
        }
      },
      "execution_count": 3,
      "outputs": [
        {
          "output_type": "stream",
          "name": "stdout",
          "text": [
            "Enter the europe floor:5\n",
            "US floor is: 6\n"
          ]
        }
      ]
    },
    {
      "cell_type": "markdown",
      "source": [
        "### Conditional steps"
      ],
      "metadata": {
        "id": "X7Cd6JW1MsiF"
      }
    },
    {
      "cell_type": "code",
      "source": [
        "x=5\n",
        "if x<5:\n",
        "  print(\"Lower than 5\")\n",
        "if x>4:\n",
        "  print(\"Greater than 4\")\n"
      ],
      "metadata": {
        "id": "hCsysLE3MsNB",
        "outputId": "5cb97bbc-c906-4f54-ddc8-d4f6bc2700d3",
        "colab": {
          "base_uri": "https://localhost:8080/"
        }
      },
      "execution_count": 4,
      "outputs": [
        {
          "output_type": "stream",
          "name": "stdout",
          "text": [
            "Greater than 4\n"
          ]
        }
      ]
    },
    {
      "cell_type": "code",
      "source": [
        "# Comparison operators\n",
        "x=5\n",
        "if x==5:\n",
        "  print(\"Equal to 5\")\n",
        "if x<6:\n",
        "  print(\"Less than 6\")\n",
        "if x>=5:\n",
        "  print(\"Greater than or equal to 5\")\n",
        "if x!=6:\n",
        "  print(\"Not equal to 6\")"
      ],
      "metadata": {
        "id": "w1Qs1NRTNV7B",
        "outputId": "77486b2b-0f23-4ce7-9a1a-b817a469fad6",
        "colab": {
          "base_uri": "https://localhost:8080/"
        }
      },
      "execution_count": 5,
      "outputs": [
        {
          "output_type": "stream",
          "name": "stdout",
          "text": [
            "Equal to 5\n",
            "Less than 6\n",
            "Greater than or equal to 5\n",
            "Not equal to 6\n"
          ]
        }
      ]
    },
    {
      "cell_type": "code",
      "source": [
        "# Nested Decisions\n",
        "x=42\n",
        "if x>1:\n",
        "  print(\"Greater than 1\")\n",
        "  if x<100:\n",
        "    print(\"Smaller than  100\")"
      ],
      "metadata": {
        "id": "gLZl_6nTOVBc",
        "outputId": "7e76d304-441b-468f-a538-feb6bf140d1a",
        "colab": {
          "base_uri": "https://localhost:8080/"
        }
      },
      "execution_count": 8,
      "outputs": [
        {
          "output_type": "stream",
          "name": "stdout",
          "text": [
            "Greater than 1\n",
            "Smaller than  100\n"
          ]
        }
      ]
    },
    {
      "cell_type": "code",
      "source": [
        "# Two way decisions with else\n",
        "x=42\n",
        "if x<40:\n",
        "  print(\"Less than 40\")\n",
        "else:\n",
        "  print(\"Greater than 40\")"
      ],
      "metadata": {
        "id": "dQrMC5JbOyGa",
        "outputId": "603e6bcc-1f65-4d85-a49d-f2b06bebd1d0",
        "colab": {
          "base_uri": "https://localhost:8080/"
        }
      },
      "execution_count": 9,
      "outputs": [
        {
          "output_type": "stream",
          "name": "stdout",
          "text": [
            "Greater than 40\n"
          ]
        }
      ]
    },
    {
      "cell_type": "code",
      "source": [
        "# Multi way\n",
        "x = 2\n",
        "if x<2:\n",
        "  print(\"Smaller\")\n",
        "elif x==2:\n",
        "  print(\"Equal\")\n",
        "else x>2:\n",
        "  print(\"Greater \")"
      ],
      "metadata": {
        "id": "Q_SW02UWPIly",
        "outputId": "30f30e53-d8a2-4bca-b4db-e78697b8bab8",
        "colab": {
          "base_uri": "https://localhost:8080/"
        }
      },
      "execution_count": 10,
      "outputs": [
        {
          "output_type": "stream",
          "name": "stdout",
          "text": [
            "Equal to 2\n"
          ]
        }
      ]
    },
    {
      "cell_type": "code",
      "source": [
        "# No else: no output\n",
        "x=15\n",
        "if x<5:\n",
        "  print(\"Smaller\")\n",
        "elif x<10:\n",
        "  print(\"Larger than 5\")"
      ],
      "metadata": {
        "id": "LyH0CRcmPxsA"
      },
      "execution_count": 11,
      "outputs": []
    },
    {
      "cell_type": "code",
      "source": [
        "# Try and Except\n",
        "astr='Hello Bob'\n",
        "istr=int(astr)\n",
        "print(astr)"
      ],
      "metadata": {
        "id": "LamqWHAkQMza",
        "outputId": "f804a674-45dc-4aa3-9d7a-15e9e44d371a",
        "colab": {
          "base_uri": "https://localhost:8080/",
          "height": 214
        }
      },
      "execution_count": 13,
      "outputs": [
        {
          "output_type": "error",
          "ename": "ValueError",
          "evalue": "ignored",
          "traceback": [
            "\u001b[0;31m---------------------------------------------------------------------------\u001b[0m",
            "\u001b[0;31mValueError\u001b[0m                                Traceback (most recent call last)",
            "\u001b[0;32m<ipython-input-13-0fe9b8ff2e62>\u001b[0m in \u001b[0;36m<module>\u001b[0;34m()\u001b[0m\n\u001b[1;32m      1\u001b[0m \u001b[0;31m# Try and Except\u001b[0m\u001b[0;34m\u001b[0m\u001b[0;34m\u001b[0m\u001b[0;34m\u001b[0m\u001b[0m\n\u001b[1;32m      2\u001b[0m \u001b[0mastr\u001b[0m\u001b[0;34m=\u001b[0m\u001b[0;34m'Hello Bob'\u001b[0m\u001b[0;34m\u001b[0m\u001b[0;34m\u001b[0m\u001b[0m\n\u001b[0;32m----> 3\u001b[0;31m \u001b[0mistr\u001b[0m\u001b[0;34m=\u001b[0m\u001b[0mint\u001b[0m\u001b[0;34m(\u001b[0m\u001b[0mastr\u001b[0m\u001b[0;34m)\u001b[0m\u001b[0;34m\u001b[0m\u001b[0;34m\u001b[0m\u001b[0m\n\u001b[0m\u001b[1;32m      4\u001b[0m \u001b[0mprint\u001b[0m\u001b[0;34m(\u001b[0m\u001b[0mastr\u001b[0m\u001b[0;34m)\u001b[0m\u001b[0;34m\u001b[0m\u001b[0;34m\u001b[0m\u001b[0m\n",
            "\u001b[0;31mValueError\u001b[0m: invalid literal for int() with base 10: 'Hello Bob'"
          ]
        }
      ]
    },
    {
      "cell_type": "code",
      "source": [
        "astr='Hello Bob'\n",
        "try:\n",
        "  istr=int(astr)\n",
        "except:\n",
        "  print(\"Error\")\n",
        "  istr=-1\n",
        "print(\"First\",istr)"
      ],
      "metadata": {
        "id": "-J-aaAysQ5pt",
        "outputId": "a480f056-c9f6-4760-9d5a-aca87c8dab35",
        "colab": {
          "base_uri": "https://localhost:8080/"
        }
      },
      "execution_count": 16,
      "outputs": [
        {
          "output_type": "stream",
          "name": "stdout",
          "text": [
            "Error\n",
            "First -1\n"
          ]
        }
      ]
    },
    {
      "cell_type": "code",
      "source": [
        "astr='123'\n",
        "try:\n",
        "  istr=int(astr)\n",
        "except:\n",
        "  print(\"Error\")\n",
        "  istr=-1\n",
        "print(\"Second\",istr)"
      ],
      "metadata": {
        "id": "5_rd8L6gRbVh",
        "outputId": "d6e35368-c0ae-4108-fa3e-7d02ec787fcf",
        "colab": {
          "base_uri": "https://localhost:8080/"
        }
      },
      "execution_count": 17,
      "outputs": [
        {
          "output_type": "stream",
          "name": "stdout",
          "text": [
            "Second 123\n"
          ]
        }
      ]
    },
    {
      "cell_type": "code",
      "source": [
        "rawstr=input(\"Enter a number\")\n",
        "try:\n",
        "  val= int(rawstr)\n",
        "  print(\"The number is:\",val)\n",
        "except:\n",
        "  print(\"ERROR: Enter a number\")"
      ],
      "metadata": {
        "id": "iDWD0JsLRtt6",
        "outputId": "104ced31-e669-4845-a1ec-276f83c20446",
        "colab": {
          "base_uri": "https://localhost:8080/"
        }
      },
      "execution_count": 19,
      "outputs": [
        {
          "output_type": "stream",
          "name": "stdout",
          "text": [
            "Enter a number42\n",
            "The number is: 42\n"
          ]
        }
      ]
    },
    {
      "cell_type": "markdown",
      "metadata": {
        "id": "WRivmMt7aZwb"
      },
      "source": [
        "Numbers"
      ]
    },
    {
      "cell_type": "code",
      "metadata": {
        "colab": {
          "base_uri": "https://localhost:8080/"
        },
        "id": "7b0i1DFPZjeG",
        "outputId": "c71adb04-7e5e-4cd9-bc54-9aa7eb18e1b2"
      },
      "source": [
        "x = 3\n",
        "print(x,type(x))"
      ],
      "execution_count": null,
      "outputs": [
        {
          "output_type": "stream",
          "text": [
            "3 <class 'int'>\n"
          ],
          "name": "stdout"
        }
      ]
    },
    {
      "cell_type": "code",
      "metadata": {
        "colab": {
          "base_uri": "https://localhost:8080/"
        },
        "id": "X-tKSzt7ZwXT",
        "outputId": "0a494e69-44fe-45ca-c0b6-c132916d9d0d"
      },
      "source": [
        "print(x+1)\n",
        "print(x-1)\n",
        "print(x*2)\n",
        "print(x**2)"
      ],
      "execution_count": null,
      "outputs": [
        {
          "output_type": "stream",
          "text": [
            "4\n",
            "2\n",
            "6\n",
            "9\n"
          ],
          "name": "stdout"
        }
      ]
    },
    {
      "cell_type": "code",
      "metadata": {
        "colab": {
          "base_uri": "https://localhost:8080/"
        },
        "id": "03ZfVDpWaEpl",
        "outputId": "7104e663-1734-406d-ac37-66bb4af16eef"
      },
      "source": [
        "y = 2.5\n",
        "print(y,type(y))\n",
        "print(y+1,y-1,y*2,y**2)"
      ],
      "execution_count": null,
      "outputs": [
        {
          "output_type": "stream",
          "text": [
            "2.5 <class 'float'>\n",
            "3.5 1.5 5.0 6.25\n"
          ],
          "name": "stdout"
        }
      ]
    },
    {
      "cell_type": "markdown",
      "metadata": {
        "id": "PJQ-rjUzaeGh"
      },
      "source": [
        "Booleans"
      ]
    },
    {
      "cell_type": "code",
      "metadata": {
        "colab": {
          "base_uri": "https://localhost:8080/"
        },
        "id": "djb-kswoaf0o",
        "outputId": "5da3d629-2405-40da-a9e8-da2a91759d3b"
      },
      "source": [
        "t,f = True,False\n",
        "print(t,f,type(t))"
      ],
      "execution_count": null,
      "outputs": [
        {
          "output_type": "stream",
          "text": [
            "True False <class 'bool'>\n"
          ],
          "name": "stdout"
        }
      ]
    },
    {
      "cell_type": "code",
      "metadata": {
        "colab": {
          "base_uri": "https://localhost:8080/"
        },
        "id": "0KPxXF3_a7sF",
        "outputId": "6bc34905-9c29-40e0-cc03-93362ff41e39"
      },
      "source": [
        "print(t and f)# logical and \n",
        "print(t or f)# logical or\n",
        "print(not t)# logical not"
      ],
      "execution_count": null,
      "outputs": [
        {
          "output_type": "stream",
          "text": [
            "False\n",
            "True\n",
            "False\n"
          ],
          "name": "stdout"
        }
      ]
    },
    {
      "cell_type": "markdown",
      "metadata": {
        "id": "J24kvwWPa65Z"
      },
      "source": [
        "Strings"
      ]
    },
    {
      "cell_type": "code",
      "metadata": {
        "colab": {
          "base_uri": "https://localhost:8080/"
        },
        "id": "admx45cebPVm",
        "outputId": "a7316e46-da5e-4bbb-9245-aaf3fe0ad0bc"
      },
      "source": [
        "h = 'hello'\n",
        "w = \"world\"\n",
        "print(h,type(h),len(h))"
      ],
      "execution_count": null,
      "outputs": [
        {
          "output_type": "stream",
          "text": [
            "hello <class 'str'> 5\n"
          ],
          "name": "stdout"
        }
      ]
    },
    {
      "cell_type": "code",
      "metadata": {
        "colab": {
          "base_uri": "https://localhost:8080/"
        },
        "id": "hGfnsc5xbujw",
        "outputId": "35430307-61b5-47c4-9ba1-c05ac8c83e20"
      },
      "source": [
        "hw = h+ \" \" +w #string concatenation\n",
        "print(hw,len(hw))"
      ],
      "execution_count": null,
      "outputs": [
        {
          "output_type": "stream",
          "text": [
            "hello world 11\n"
          ],
          "name": "stdout"
        }
      ]
    },
    {
      "cell_type": "code",
      "metadata": {
        "colab": {
          "base_uri": "https://localhost:8080/"
        },
        "id": "mqT_7UfQcL5w",
        "outputId": "c5e00793-4851-4988-facd-94fa5f7289bc"
      },
      "source": [
        "hw12 = '{} {} {}'.format(h, w, 21)  # string formatting ??\n",
        "print(hw12)"
      ],
      "execution_count": null,
      "outputs": [
        {
          "output_type": "stream",
          "text": [
            "hello world 21\n"
          ],
          "name": "stdout"
        }
      ]
    },
    {
      "cell_type": "code",
      "metadata": {
        "colab": {
          "base_uri": "https://localhost:8080/"
        },
        "id": "U7DAe1UvcqQk",
        "outputId": "98a1482a-1ad1-49ff-afe6-f32616517f00"
      },
      "source": [
        "s = 'the one lion'\n",
        "print(s,s.capitalize())\n",
        "print(s,s.upper())\n",
        "print(s.replace('o','oo'))"
      ],
      "execution_count": null,
      "outputs": [
        {
          "output_type": "stream",
          "text": [
            "the one lion The one lion\n",
            "the one lion THE ONE LION\n",
            "the oone lioon\n"
          ],
          "name": "stdout"
        }
      ]
    },
    {
      "cell_type": "markdown",
      "metadata": {
        "id": "7M794RWpdfE8"
      },
      "source": [
        "Containers:- list,dictionaries,tuples,set"
      ]
    },
    {
      "cell_type": "markdown",
      "metadata": {
        "id": "l1ufAcv2gBEI"
      },
      "source": [
        "Lists"
      ]
    },
    {
      "cell_type": "code",
      "metadata": {
        "colab": {
          "base_uri": "https://localhost:8080/"
        },
        "id": "IhHW_TsZdn4P",
        "outputId": "68699ed3-6d62-4d18-f281-7f8de962ef58"
      },
      "source": [
        "l = [3,1,2,5.0]\n",
        "print(l,l[3])\n",
        "print(l[-1])"
      ],
      "execution_count": null,
      "outputs": [
        {
          "output_type": "stream",
          "text": [
            "[3, 1, 2, 5.0] 5.0\n",
            "5.0\n"
          ],
          "name": "stdout"
        }
      ]
    },
    {
      "cell_type": "code",
      "metadata": {
        "colab": {
          "base_uri": "https://localhost:8080/"
        },
        "id": "6kL6XDjWeaY6",
        "outputId": "b7292170-ae68-46eb-eec6-96b55ef4af79"
      },
      "source": [
        "l[2] = 'k' #list can contain elements of different types\n",
        "print(l)"
      ],
      "execution_count": null,
      "outputs": [
        {
          "output_type": "stream",
          "text": [
            "[3, 1, 'k', 5.0]\n"
          ],
          "name": "stdout"
        }
      ]
    },
    {
      "cell_type": "code",
      "metadata": {
        "colab": {
          "base_uri": "https://localhost:8080/"
        },
        "id": "IYmysqqfevRQ",
        "outputId": "97b3befa-2412-4779-80cb-9ad7808edd3e"
      },
      "source": [
        "l.append('you') # add a new element to the end of the list\n",
        "print(l)"
      ],
      "execution_count": null,
      "outputs": [
        {
          "output_type": "stream",
          "text": [
            "[3, 1, 'k', 5.0, 'you']\n"
          ],
          "name": "stdout"
        }
      ]
    },
    {
      "cell_type": "code",
      "metadata": {
        "colab": {
          "base_uri": "https://localhost:8080/"
        },
        "id": "L0NpaNsYfAqw",
        "outputId": "311f6481-6573-4e4c-de8a-3d0d50088d4b"
      },
      "source": [
        "print(l.pop()) # remove the last element of the list and also return it\n",
        "print(l)\n"
      ],
      "execution_count": null,
      "outputs": [
        {
          "output_type": "stream",
          "text": [
            "5.0\n",
            "[3, 1, 'k']\n"
          ],
          "name": "stdout"
        }
      ]
    },
    {
      "cell_type": "markdown",
      "metadata": {
        "id": "gj-DYyQXf9k3"
      },
      "source": [
        "Slicing"
      ]
    },
    {
      "cell_type": "code",
      "metadata": {
        "colab": {
          "base_uri": "https://localhost:8080/"
        },
        "id": "T-OnTVYZf_Vl",
        "outputId": "cd2b3bcc-0306-4bf6-8674-bb78442802d7"
      },
      "source": [
        "nums  = list(range(6))  # range is a built-in function that creates a list of integers\n",
        "print(nums)  # Prints \"[0, 1, 2, 3, 4,5]\"\n",
        "print(nums[2:4])  # Get a slice from index 2 to 4 (exclusive); prints \"[2, 3]\"\n",
        "print(nums[2:]) # Get a slice from index 2 to the end; prints \"[2, 3, 4]\"\n",
        "print(nums[:2]) # Get a slice from the start to index 2 (exclusive); prints \"[0, 1]\"\n",
        "print(nums[:]) # Get a slice of the whole list; prints [\"0, 1, 2, 3, 4]\"\n",
        "print(nums[:-1]) # Slice indices can be negative; prints [\"0, 1, 2, 3]\"\n",
        "nums[3:5] = [9,16] # Assign a new sublist to a slice\n",
        "print(nums)"
      ],
      "execution_count": null,
      "outputs": [
        {
          "output_type": "stream",
          "text": [
            "[0, 1, 2, 3, 4, 5]\n",
            "[2, 3]\n",
            "[2, 3, 4, 5]\n",
            "[0, 1]\n",
            "[0, 1, 2, 3, 4, 5]\n",
            "[0, 1, 2, 3, 4]\n",
            "[0, 1, 2, 9, 16, 5]\n"
          ],
          "name": "stdout"
        }
      ]
    },
    {
      "cell_type": "markdown",
      "metadata": {
        "id": "g5h8CzJ7lgH6"
      },
      "source": [
        "### Loops: \n",
        "- have iteration variable that change each time through a loop\n",
        "- Repeated steps\n",
        "- Zero trip\n",
        "- Infinite loop"
      ]
    },
    {
      "cell_type": "code",
      "source": [
        "# While loop: Indefinite loop\n",
        "n=5 # iteration variable\n",
        "while n>0:\n",
        "  print(n)\n",
        "  n=n-1\n",
        "print(\"After the loop:\",n)"
      ],
      "metadata": {
        "id": "5Vh3whRlX7qu",
        "outputId": "bc521e8b-3376-4554-dc0d-91e9ee555f19",
        "colab": {
          "base_uri": "https://localhost:8080/"
        }
      },
      "execution_count": 42,
      "outputs": [
        {
          "output_type": "stream",
          "name": "stdout",
          "text": [
            "5\n",
            "4\n",
            "3\n",
            "2\n",
            "1\n",
            "After the loop: 0\n"
          ]
        }
      ]
    },
    {
      "cell_type": "code",
      "metadata": {
        "colab": {
          "base_uri": "https://localhost:8080/"
        },
        "id": "tkt-LmdclhbC",
        "outputId": "ebc0c055-ece9-421e-ec1a-c8249d97f53f"
      },
      "source": [
        "animals = ['cat', 'dog', 'monkey','lion']\n",
        "for animals in animals:\n",
        "    print(animals)\n",
        "else:\n",
        "  print(\"List is completed\")"
      ],
      "execution_count": null,
      "outputs": [
        {
          "output_type": "stream",
          "text": [
            "cat\n",
            "dog\n",
            "monkey\n",
            "lion\n",
            "List is completed\n"
          ],
          "name": "stdout"
        }
      ]
    },
    {
      "cell_type": "code",
      "source": [
        "# For loop: definite loop\n",
        "for i in [5,4,3,2,1]:\n",
        "  print(i)\n",
        "print(\"Done!!\")"
      ],
      "metadata": {
        "id": "CYp9nN_VbaxT",
        "outputId": "8d599d2d-ad14-4714-833e-00e3935420bc",
        "colab": {
          "base_uri": "https://localhost:8080/"
        }
      },
      "execution_count": 44,
      "outputs": [
        {
          "output_type": "stream",
          "name": "stdout",
          "text": [
            "5\n",
            "4\n",
            "3\n",
            "2\n",
            "1\n",
            "Done!!\n"
          ]
        }
      ]
    },
    {
      "cell_type": "code",
      "source": [
        "# Definite for loop with a string\n",
        "friends=['John','Maya','Katya'] # Successuve values that in friends\n",
        "for friend in friends:\n",
        "  print(\"Happy New Year\",friend)\n",
        "print(\"Done\")"
      ],
      "metadata": {
        "id": "6_cp_q8IbzNU",
        "outputId": "6d16c6aa-f295-448b-9ba5-2093a115add5",
        "colab": {
          "base_uri": "https://localhost:8080/"
        }
      },
      "execution_count": 47,
      "outputs": [
        {
          "output_type": "stream",
          "name": "stdout",
          "text": [
            "Happy New Year John\n",
            "Happy New Year Maya\n",
            "Happy New Year Katya\n",
            "Done\n"
          ]
        }
      ]
    },
    {
      "cell_type": "code",
      "source": [
        "# Finding the largest number\n",
        "largest_so_far = -1\n",
        "print(\"Before the loop:\",largest_so_far)\n",
        "\n",
        "for the_num in [5,9,84,65,78,3,4,8,9,1,545,69]:\n",
        "  if the_num>largest_so_far:\n",
        "    largest_so_far=the_num\n",
        "  print(largest_so_far,the_num)\n",
        "\n",
        "print(\"After the loop:\",largest_so_far)\n",
        "print(\"Done!!!\")"
      ],
      "metadata": {
        "id": "CVvwYpUBetq6",
        "outputId": "510d2963-9dc0-40ce-81f8-f6241b1c28d3",
        "colab": {
          "base_uri": "https://localhost:8080/"
        }
      },
      "execution_count": 52,
      "outputs": [
        {
          "output_type": "stream",
          "name": "stdout",
          "text": [
            "Before the loop: -1\n",
            "5 5\n",
            "9 9\n",
            "84 84\n",
            "84 65\n",
            "84 78\n",
            "84 3\n",
            "84 4\n",
            "84 8\n",
            "84 9\n",
            "84 1\n",
            "545 545\n",
            "545 69\n",
            "After the loop: 545\n",
            "Done!!!\n"
          ]
        }
      ]
    },
    {
      "cell_type": "markdown",
      "metadata": {
        "id": "srXNKLSnpa_h"
      },
      "source": [
        "# Nested Loops\n",
        "animals = [\"cat\",\"dog\",\"monkey\",\"lion\"]\n",
        "color = [\"black\",\"white\"]\n",
        "for y in animals:\n",
        "  for x in color:\n",
        "   print(y,x)\n"
      ]
    },
    {
      "cell_type": "code",
      "metadata": {
        "colab": {
          "base_uri": "https://localhost:8080/"
        },
        "id": "qdHKIXX7o1z3",
        "outputId": "b8e2da6e-dc97-4557-8e0f-7d5449f9cf7b"
      },
      "source": [
        "for x in range(10):\n",
        "  print(x)\n",
        "else:\n",
        "  print(\"Finally Finished\")"
      ],
      "execution_count": null,
      "outputs": [
        {
          "output_type": "stream",
          "text": [
            "0\n",
            "1\n",
            "2\n",
            "3\n",
            "4\n",
            "5\n",
            "6\n",
            "7\n",
            "8\n",
            "9\n",
            "Finally Finished\n"
          ],
          "name": "stdout"
        }
      ]
    },
    {
      "cell_type": "markdown",
      "metadata": {
        "id": "lnjBVMnuscmp"
      },
      "source": [
        "IF ELSE"
      ]
    },
    {
      "cell_type": "code",
      "metadata": {
        "colab": {
          "base_uri": "https://localhost:8080/"
        },
        "id": "_iDth-pHr9QO",
        "outputId": "4fd50dfa-b336-4def-aab9-66fbfd4117ea"
      },
      "source": [
        "a=33\n",
        "b=10\n",
        "if b>a :\n",
        "  print(\"b is greater than a\")\n",
        "else:\n",
        "  print(\"a is greater than b\")"
      ],
      "execution_count": null,
      "outputs": [
        {
          "output_type": "stream",
          "text": [
            "a is greater than b\n"
          ],
          "name": "stdout"
        }
      ]
    },
    {
      "cell_type": "code",
      "metadata": {
        "colab": {
          "base_uri": "https://localhost:8080/"
        },
        "id": "evRh42bMsnGu",
        "outputId": "1ac6a56b-5cb2-4fd3-de7f-2dc76a6b1e02"
      },
      "source": [
        "# The elif keyword is pythons way of saying \"if the previous conditions were not true, then try this condition\".\n",
        "\n",
        "a=10\n",
        "b=10\n",
        "if a>b:\n",
        "  print(\"a is greater than b\")\n",
        "elif a == b:\n",
        "    print(\"a is equal to b\")\n",
        "elif a<b:\n",
        "  print(\"a is less than b\")"
      ],
      "execution_count": null,
      "outputs": [
        {
          "output_type": "stream",
          "text": [
            "a is equal to b\n"
          ],
          "name": "stdout"
        }
      ]
    },
    {
      "cell_type": "markdown",
      "metadata": {
        "id": "6jL_2Ya3vbl1"
      },
      "source": [
        "List Comprehension"
      ]
    },
    {
      "cell_type": "code",
      "metadata": {
        "colab": {
          "base_uri": "https://localhost:8080/"
        },
        "id": "vTC_MokXveD8",
        "outputId": "f7572321-50b4-4e35-d5f6-fea0a2ef7f39"
      },
      "source": [
        "# Normal\n",
        "nums = [0,1,2,3,4]\n",
        "squares = []\n",
        "for x in nums:\n",
        "  squares.append(x**2)\n",
        "print(squares)\n"
      ],
      "execution_count": null,
      "outputs": [
        {
          "output_type": "stream",
          "text": [
            "[0, 1, 4, 9, 16]\n"
          ],
          "name": "stdout"
        }
      ]
    },
    {
      "cell_type": "code",
      "metadata": {
        "colab": {
          "base_uri": "https://localhost:8080/"
        },
        "id": "_hPXlIsDv7BX",
        "outputId": "0cfb9915-ad24-4e50-cc41-2045124cb5a1"
      },
      "source": [
        "# List comprehension\n",
        "nums = [0,1,2,3,4,5]\n",
        "squares = [x**2 for x in nums]\n",
        "print(squares)"
      ],
      "execution_count": null,
      "outputs": [
        {
          "output_type": "stream",
          "text": [
            "[0, 1, 4, 9, 16, 25]\n"
          ],
          "name": "stdout"
        }
      ]
    },
    {
      "cell_type": "code",
      "metadata": {
        "colab": {
          "base_uri": "https://localhost:8080/"
        },
        "id": "B-30nScwwZYy",
        "outputId": "3c0f3ea7-26eb-4405-c302-eda1a52d401e"
      },
      "source": [
        "# list comprehension can also contain conditions\n",
        "nums = [0,1,2,3,4,5,6]\n",
        "even_squares = [x**2 for x in nums if x % 2 == 0]\n",
        "print(even_squares)"
      ],
      "execution_count": null,
      "outputs": [
        {
          "output_type": "stream",
          "text": [
            "[0, 4, 16, 36]\n"
          ],
          "name": "stdout"
        }
      ]
    },
    {
      "cell_type": "markdown",
      "metadata": {
        "id": "wFBQ5AwExkl3"
      },
      "source": [
        "Sets\n",
        "An unordered collection of distinct elements"
      ]
    },
    {
      "cell_type": "code",
      "metadata": {
        "colab": {
          "base_uri": "https://localhost:8080/"
        },
        "id": "pDX3rPduxtFj",
        "outputId": "ad4ca584-9d38-4f7c-dcfd-87af721c38fa"
      },
      "source": [
        "animals = {\"cat\",\"dog\",\"elephat\"}\n",
        "print(\"cat\" in animals) # check if an element is in the set\n",
        "print(\"lion\" in animals)"
      ],
      "execution_count": null,
      "outputs": [
        {
          "output_type": "stream",
          "text": [
            "True\n",
            "False\n"
          ],
          "name": "stdout"
        }
      ]
    },
    {
      "cell_type": "code",
      "metadata": {
        "colab": {
          "base_uri": "https://localhost:8080/"
        },
        "id": "uuVHKf0SyINZ",
        "outputId": "f1f85d6b-4065-40f7-b6b3-ac5b4799819c"
      },
      "source": [
        "animals.add('lion') # add element in a set\n",
        "print(animals)\n",
        "print(len(animals))\n",
        "animals.remove('lion') # remove element from the set\n",
        "print(len(animals))"
      ],
      "execution_count": null,
      "outputs": [
        {
          "output_type": "stream",
          "text": [
            "{'elephat', 'cat', 'dog', 'lion'}\n",
            "4\n",
            "3\n"
          ],
          "name": "stdout"
        }
      ]
    },
    {
      "cell_type": "markdown",
      "metadata": {
        "id": "ZFCv0oSvy9bo"
      },
      "source": [
        "### Functions:\n",
        "- Stored (and reused) steps"
      ]
    },
    {
      "cell_type": "code",
      "source": [
        "def thing():\n",
        "  print(\"Hello Fun\")"
      ],
      "metadata": {
        "id": "y_3sZqIWS2Ax"
      },
      "execution_count": 21,
      "outputs": []
    },
    {
      "cell_type": "code",
      "source": [
        "thing()\n",
        "print(\"Zip\")\n",
        "thing()"
      ],
      "metadata": {
        "id": "KcFhNIt1S8ZM",
        "outputId": "32a2a234-1b5a-4033-c250-1aa5cc26572a",
        "colab": {
          "base_uri": "https://localhost:8080/"
        }
      },
      "execution_count": 23,
      "outputs": [
        {
          "output_type": "stream",
          "name": "stdout",
          "text": [
            "Hello Fun\n",
            "Zip\n",
            "Hello Fun\n"
          ]
        }
      ]
    },
    {
      "cell_type": "code",
      "source": [
        "big = max('Hello world')\n",
        "print(big)\n",
        "small = min('Hello world')\n",
        "print(small)"
      ],
      "metadata": {
        "id": "Jxh_EQAtTNN0",
        "outputId": "db635a08-5aea-4b73-fe04-563c77d640d6",
        "colab": {
          "base_uri": "https://localhost:8080/"
        }
      },
      "execution_count": 27,
      "outputs": [
        {
          "output_type": "stream",
          "name": "stdout",
          "text": [
            "w\n",
            " \n"
          ]
        }
      ]
    },
    {
      "cell_type": "code",
      "source": [
        "def greet(lang):\n",
        "  if lang=='es':\n",
        "    print(\"Hola\")\n",
        "  elif lang=='fr':\n",
        "    print(\"Bonjour\")\n",
        "  else:\n",
        "    print(\"Hello\")"
      ],
      "metadata": {
        "id": "kCFmcCdcTxNB"
      },
      "execution_count": 28,
      "outputs": []
    },
    {
      "cell_type": "code",
      "source": [
        "greet('es')"
      ],
      "metadata": {
        "id": "Zqv6EtymUKRT",
        "outputId": "dfa39625-c284-41e4-fbf5-08cea9f4c4cd",
        "colab": {
          "base_uri": "https://localhost:8080/"
        }
      },
      "execution_count": 30,
      "outputs": [
        {
          "output_type": "stream",
          "name": "stdout",
          "text": [
            "Hola\n"
          ]
        }
      ]
    },
    {
      "cell_type": "code",
      "source": [
        "def greet(lang):\n",
        "  if lang=='es':\n",
        "    return 'Hola'\n",
        "  elif lang=='fr':\n",
        "    return 'Bonjour'\n",
        "  else:\n",
        "    return 'Hello'"
      ],
      "metadata": {
        "id": "hhNKLbmzUqYw"
      },
      "execution_count": 32,
      "outputs": []
    },
    {
      "cell_type": "code",
      "source": [
        "print(greet('es'),'Alexa')\n",
        "print(greet('en'),'John')\n",
        "print(greet('fr'),'Michael')"
      ],
      "metadata": {
        "id": "emB594eLVErp",
        "outputId": "ae0ae0aa-644d-48a5-9921-529096ac5210",
        "colab": {
          "base_uri": "https://localhost:8080/"
        }
      },
      "execution_count": 34,
      "outputs": [
        {
          "output_type": "stream",
          "name": "stdout",
          "text": [
            "Hola Alexa\n",
            "Hello John\n",
            "Bonjour Michael\n"
          ]
        }
      ]
    },
    {
      "cell_type": "code",
      "source": [
        "# A calculator\n",
        "def calculate():\n",
        "  c=input(\"Enter the operation:\")\n",
        "  if c=='sum':\n",
        "    a = int(input('Enter the number'))\n",
        "    b = int(input('Enter the number'))\n",
        "    return print(\"The sum is:\",a+b)\n",
        "  elif c=='subtract':\n",
        "    a = int(input('Enter the number'))\n",
        "    b = int(input('Enter the number'))\n",
        "    return print(\"The subtraction is:\",a-b)\n",
        "  elif c=='multiply':\n",
        "    a = int(input('Enter the number'))\n",
        "    b = int(input('Enter the number'))\n",
        "    return print(\"The multiplication is:\",a*b)\n",
        "  elif c=='divide':\n",
        "    a = int(input('Enter the number'))\n",
        "    b = int(input('Enter the number'))\n",
        "    return print(\"The division is:\",a/b)\n",
        "  else:\n",
        "    print(\"Invalid oopereation\")"
      ],
      "metadata": {
        "id": "enI3XiLXVuGQ"
      },
      "execution_count": 37,
      "outputs": []
    },
    {
      "cell_type": "code",
      "source": [
        "calculate()"
      ],
      "metadata": {
        "id": "3hRzbAqFXRFq",
        "outputId": "2b785996-abf6-44b7-d70b-4c54c4213c7a",
        "colab": {
          "base_uri": "https://localhost:8080/"
        }
      },
      "execution_count": 39,
      "outputs": [
        {
          "output_type": "stream",
          "name": "stdout",
          "text": [
            "Enter the operation:jkljlj\n",
            "Invalid oopereation\n"
          ]
        }
      ]
    },
    {
      "cell_type": "code",
      "metadata": {
        "colab": {
          "base_uri": "https://localhost:8080/"
        },
        "id": "ZFcWY8G1zE3C",
        "outputId": "121de90c-b9f6-43e8-a8b0-7d2afdce96cf"
      },
      "source": [
        "def sign(x):\n",
        "  if x<0 :\n",
        "    print(\"negative\")\n",
        "  elif x>0:\n",
        "    print(\"positive\")\n",
        "  else:\n",
        "    print(\"zero\")\n",
        "for x in [-1,0,1]:\n",
        "  print(sign(x))\n",
        "\n",
        "# ?? why none in th output? i think there is not return statement, it is just printing the listed statement"
      ],
      "execution_count": null,
      "outputs": [
        {
          "output_type": "stream",
          "text": [
            "negative\n",
            "None\n",
            "zero\n",
            "None\n",
            "positive\n",
            "None\n"
          ],
          "name": "stdout"
        }
      ]
    },
    {
      "cell_type": "code",
      "metadata": {
        "colab": {
          "base_uri": "https://localhost:8080/"
        },
        "id": "DtFAsZPu0Ssk",
        "outputId": "ecd73a31-4c5e-4288-f85d-4efaca432960"
      },
      "source": [
        "def sign(x):\n",
        "  if x>0:\n",
        "    return \"positive\"\n",
        "  elif x<0:\n",
        "    return \"negative\"\n",
        "  else:\n",
        "    return \"zero\"\n",
        "for x in [-1,-2,2,6,0,0]:\n",
        "  print(sign(x))"
      ],
      "execution_count": null,
      "outputs": [
        {
          "output_type": "stream",
          "text": [
            "negative\n",
            "negative\n",
            "positive\n",
            "positive\n",
            "zero\n",
            "zero\n"
          ],
          "name": "stdout"
        }
      ]
    },
    {
      "cell_type": "code",
      "metadata": {
        "colab": {
          "base_uri": "https://localhost:8080/"
        },
        "id": "Pstfhq4o1dr9",
        "outputId": "a1ee803e-185e-4fe0-87d8-e0044d966af9"
      },
      "source": [
        "for y in range(-1,2):\n",
        "  print(sign(y))"
      ],
      "execution_count": null,
      "outputs": [
        {
          "output_type": "stream",
          "text": [
            "negative\n",
            "zero\n",
            "positive\n"
          ],
          "name": "stdout"
        }
      ]
    },
    {
      "cell_type": "code",
      "metadata": {
        "colab": {
          "base_uri": "https://localhost:8080/"
        },
        "id": "NkKP0Yfg3OGO",
        "outputId": "8417d880-9827-4861-9431-021b9bf708bf"
      },
      "source": [
        "def my_function(*kids):            # *args if don't know the no. of arguments\n",
        "  print(\"The youngest child is \" + kids[2])\n",
        "\n",
        "my_function(\"Emil\", \"Tobias\", \"Linus\")"
      ],
      "execution_count": null,
      "outputs": [
        {
          "output_type": "stream",
          "text": [
            "The youngest child is Linus\n"
          ],
          "name": "stdout"
        }
      ]
    },
    {
      "cell_type": "code",
      "metadata": {
        "colab": {
          "base_uri": "https://localhost:8080/"
        },
        "id": "a3y0zQUA3oP3",
        "outputId": "b2a10d20-3487-4039-f575-fdce097eed0c"
      },
      "source": [
        "# default argument\n",
        "def my_function(country = \"Norway\"): # Here norway is the difficult country\n",
        "  print(\"I am from \" + country)\n",
        "\n",
        "my_function(\"Sweden\")\n",
        "my_function(\"India\")\n",
        "my_function()             # defualt value is used here\n",
        "my_function(\"Brazil\")"
      ],
      "execution_count": null,
      "outputs": [
        {
          "output_type": "stream",
          "text": [
            "I am from Sweden\n",
            "I am from India\n",
            "I am from Norway\n",
            "I am from Brazil\n"
          ],
          "name": "stdout"
        }
      ]
    },
    {
      "cell_type": "code",
      "metadata": {
        "colab": {
          "base_uri": "https://localhost:8080/"
        },
        "id": "q4Vnt-4U4LNp",
        "outputId": "2edd4983-057b-4ced-b5cd-8b0e4a24b99a"
      },
      "source": [
        "# passing a list as an argument\n",
        "def my_function(food):\n",
        "  for x in food:\n",
        "    print(x)\n",
        "\n",
        "fruits = [\"apple\", \"banana\", \"cherry\"]\n",
        "\n",
        "my_function(fruits)\n"
      ],
      "execution_count": null,
      "outputs": [
        {
          "output_type": "stream",
          "text": [
            "apple\n",
            "banana\n",
            "cherry\n"
          ],
          "name": "stdout"
        }
      ]
    },
    {
      "cell_type": "code",
      "metadata": {
        "colab": {
          "base_uri": "https://localhost:8080/"
        },
        "id": "dXlRXd_B4Zme",
        "outputId": "ff251686-2f6b-465d-e000-8dc44e23598f"
      },
      "source": [
        "# Return Statement\n",
        "def multiple_5(x):\n",
        "  return 5*x\n",
        "print(multiple_5(6))"
      ],
      "execution_count": null,
      "outputs": [
        {
          "output_type": "stream",
          "text": [
            "30\n"
          ],
          "name": "stdout"
        }
      ]
    },
    {
      "cell_type": "markdown",
      "metadata": {
        "id": "z4vKm9vq73Zn"
      },
      "source": [
        "CLASS"
      ]
    },
    {
      "cell_type": "code",
      "metadata": {
        "colab": {
          "base_uri": "https://localhost:8080/"
        },
        "id": "aYkYITwM754Z",
        "outputId": "1c4c5af1-1ec2-4e54-fa29-8e259af13a8b"
      },
      "source": [
        "class Person:\n",
        "  def __init__(self, name, age):\n",
        "    self.name = name\n",
        "    self.age = age\n",
        "\n",
        "p1 = Person(\"John\", 36)\n",
        "\n",
        "print(p1.name)\n",
        "print(p1.age)\n",
        "\n",
        "\n",
        "class student:\n",
        "  def __init__(self,name,fname):\n",
        "    self.name = name\n",
        "    self.fname = fname\n",
        "    \n",
        "s1 = student(\"mohan\",\"radhemohan\")\n",
        "\n",
        "print(s1.name)\n",
        "print(s1.fname)\n"
      ],
      "execution_count": null,
      "outputs": [
        {
          "output_type": "stream",
          "text": [
            "John\n",
            "36\n",
            "mohan\n",
            "radhemohan\n"
          ],
          "name": "stdout"
        }
      ]
    },
    {
      "cell_type": "code",
      "metadata": {
        "colab": {
          "base_uri": "https://localhost:8080/"
        },
        "id": "9cwyUPT9_Fle",
        "outputId": "d1cb8349-895f-4b33-97a8-da8d65e4f32d"
      },
      "source": [
        "class Person:\n",
        "  def __init__(self, name, age):\n",
        "    self.name = name\n",
        "    self.age = age\n",
        "\n",
        "  def myfunc(self):\n",
        "    print(\"Hello my name is \" + self.name)\n",
        "    print(\"My age is \", self.age)\n",
        "\n",
        "p1 = Person(\"John\", 36)\n",
        "p1.myfunc()\n",
        "\n",
        "\n",
        "class student:\n",
        "  def __init__(self,name,fname):\n",
        "    self.name = name\n",
        "    self.fname = fname\n",
        "    \n",
        "  def myfathername(self):\n",
        "    print(\"My father's name is \" + self.fname)\n",
        "    print(\"My name is \" + self.name)\n",
        "    \n",
        "    \n",
        "    \n",
        "s1 = student(\"Shubham\",\"Tayal\")\n",
        "s1.myfathername()"
      ],
      "execution_count": null,
      "outputs": [
        {
          "output_type": "stream",
          "text": [
            "Hello my name is John\n",
            "My age is  36\n",
            "My father's name is Tayal\n",
            "My name is Shubham\n"
          ],
          "name": "stdout"
        }
      ]
    },
    {
      "cell_type": "code",
      "metadata": {
        "id": "J7paUUK5AIXC",
        "colab": {
          "base_uri": "https://localhost:8080/"
        },
        "outputId": "92cb58d5-6bf8-48af-e13e-a0ff87656d94"
      },
      "source": [
        "class Greeter:\n",
        "\n",
        "    # Constructor\n",
        "    def __init__(self, name):\n",
        "        self.name = name  # Create an instance variable\n",
        "\n",
        "    # Instance method\n",
        "    def greet(self, loud=False):\n",
        "        if loud:\n",
        "          print('HELLO, {}'.format(self.name.upper()))\n",
        "        else:\n",
        "          print('Hello, {}!'.format(self.name))\n",
        "\n",
        "g = Greeter('Fred')  # Construct an instance of the Greeter class\n",
        "g.greet()            # Call an instance method; prints \"Hello, Fred\"\n",
        "g.greet(loud=True)   # Call an instance method; prints \"HELLO, FRED!\""
      ],
      "execution_count": null,
      "outputs": [
        {
          "output_type": "stream",
          "text": [
            "Hello, Fred!\n",
            "HELLO, FRED\n"
          ],
          "name": "stdout"
        }
      ]
    }
  ]
}